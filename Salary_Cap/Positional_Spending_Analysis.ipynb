{
 "cells": [
  {
   "cell_type": "markdown",
   "metadata": {},
   "source": [
    "# Positional Spending Analysis\n",
    "**Name:** Jaime Avendaño  \n",
    "**Date:** 5/21/2021  \n",
    "<br>\n",
    "This notebook takes the positional spending data and does feature engineering by normalizing the spending. All values are compared to the NFL Salary Cap for the given year.  \n",
    "<br>\n",
    "The salary cap for each team can vary slightly, since there is an amount that can be rolled over. Also, these numbers don't count the dead money from old contracts or released players. But by comparing it to a single number for a year, we can get a relative percentage that can be compared across teams and years."
   ]
  },
  {
   "cell_type": "code",
   "execution_count": 2,
   "metadata": {},
   "outputs": [],
   "source": [
    "import numpy as np\n",
    "import pandas as pd\n",
    "import matplotlib.pyplot as plt\n",
    "from matplotlib.offsetbox import OffsetImage, AnnotationBbox\n",
    "import matplotlib.ticker as mtick\n",
    "import seaborn as sns\n",
    "\n",
    "import plotly.graph_objects as go\n",
    "from plotly.colors import n_colors\n",
    "\n",
    "import janitor\n",
    "\n",
    "from ipywidgets import interact, interactive, fixed, interact_manual\n",
    "import ipywidgets as widgets"
   ]
  },
  {
   "cell_type": "code",
   "execution_count": 32,
   "metadata": {},
   "outputs": [
    {
     "data": {
      "text/plain": [
       "((288, 15), (256, 5), (32, 4))"
      ]
     },
     "execution_count": 32,
     "metadata": {},
     "output_type": "execute_result"
    }
   ],
   "source": [
    "df = pd.read_parquet('teams_spending_df.parquet')\n",
    "details_df = pd.read_parquet('teams_detail_df.parquet')\n",
    "logos_df = pd.read_parquet('teams_logos_df.parquet')\n",
    "df.shape, details_df.shape, logos_df.shape"
   ]
  },
  {
   "cell_type": "code",
   "execution_count": 33,
   "metadata": {},
   "outputs": [],
   "source": [
    "teams = df.team.unique().astype('str')\n",
    "teams.sort()"
   ]
  },
  {
   "cell_type": "code",
   "execution_count": 34,
   "metadata": {},
   "outputs": [
    {
     "data": {
      "text/plain": [
       "Index(['qb', 'rb', 'wr', 'te', 'ol', 'offense', 'idl', 'edge', 'lb', 's', 'cb',\n",
       "       'defense'],\n",
       "      dtype='object')"
      ]
     },
     "execution_count": 34,
     "metadata": {},
     "output_type": "execute_result"
    }
   ],
   "source": [
    "positions = df.columns[1:-2]\n",
    "positions"
   ]
  },
  {
   "cell_type": "code",
   "execution_count": 35,
   "metadata": {},
   "outputs": [
    {
     "data": {
      "text/plain": [
       "['qb_pct',\n",
       " 'rb_pct',\n",
       " 'wr_pct',\n",
       " 'te_pct',\n",
       " 'ol_pct',\n",
       " 'idl_pct',\n",
       " 'edge_pct',\n",
       " 'lb_pct',\n",
       " 's_pct',\n",
       " 'cb_pct']"
      ]
     },
     "execution_count": 35,
     "metadata": {},
     "output_type": "execute_result"
    }
   ],
   "source": [
    "positions_pct = [f'{pos}_pct' for pos in positions if pos not in ['defense', 'offense']]\n",
    "positions_pct"
   ]
  },
  {
   "cell_type": "code",
   "execution_count": 36,
   "metadata": {},
   "outputs": [],
   "source": [
    "def getImage(path): \n",
    "    return OffsetImage(plt.imread(path), zoom=0.35)"
   ]
  },
  {
   "cell_type": "markdown",
   "metadata": {},
   "source": [
    "## Feature Engineering\n",
    "Preparing the totals and percentate of cap columns."
   ]
  },
  {
   "cell_type": "code",
   "execution_count": 37,
   "metadata": {},
   "outputs": [],
   "source": [
    "df['total'] = df['offense'] + df['defense']"
   ]
  },
  {
   "cell_type": "code",
   "execution_count": 38,
   "metadata": {},
   "outputs": [
    {
     "data": {
      "text/html": [
       "<div>\n",
       "<style scoped>\n",
       "    .dataframe tbody tr th:only-of-type {\n",
       "        vertical-align: middle;\n",
       "    }\n",
       "\n",
       "    .dataframe tbody tr th {\n",
       "        vertical-align: top;\n",
       "    }\n",
       "\n",
       "    .dataframe thead th {\n",
       "        text-align: right;\n",
       "    }\n",
       "</style>\n",
       "<table border=\"1\" class=\"dataframe\">\n",
       "  <thead>\n",
       "    <tr style=\"text-align: right;\">\n",
       "      <th></th>\n",
       "      <th>team</th>\n",
       "      <th>qb</th>\n",
       "      <th>rb</th>\n",
       "      <th>wr</th>\n",
       "      <th>te</th>\n",
       "      <th>ol</th>\n",
       "      <th>offense</th>\n",
       "      <th>idl</th>\n",
       "      <th>edge</th>\n",
       "      <th>lb</th>\n",
       "      <th>...</th>\n",
       "      <th>wr_pct</th>\n",
       "      <th>te_pct</th>\n",
       "      <th>ol_pct</th>\n",
       "      <th>offense_pct</th>\n",
       "      <th>idl_pct</th>\n",
       "      <th>edge_pct</th>\n",
       "      <th>lb_pct</th>\n",
       "      <th>s_pct</th>\n",
       "      <th>cb_pct</th>\n",
       "      <th>defense_pct</th>\n",
       "    </tr>\n",
       "  </thead>\n",
       "  <tbody>\n",
       "    <tr>\n",
       "      <th>0</th>\n",
       "      <td>Eagles</td>\n",
       "      <td>13385137</td>\n",
       "      <td>10203112</td>\n",
       "      <td>19241989</td>\n",
       "      <td>5509036</td>\n",
       "      <td>25664899</td>\n",
       "      <td>74004173</td>\n",
       "      <td>5264666</td>\n",
       "      <td>10241101</td>\n",
       "      <td>10004817</td>\n",
       "      <td>...</td>\n",
       "      <td>0.156439</td>\n",
       "      <td>0.044789</td>\n",
       "      <td>0.208658</td>\n",
       "      <td>0.601660</td>\n",
       "      <td>0.042802</td>\n",
       "      <td>0.083261</td>\n",
       "      <td>0.081340</td>\n",
       "      <td>0.056261</td>\n",
       "      <td>0.049047</td>\n",
       "      <td>0.312711</td>\n",
       "    </tr>\n",
       "    <tr>\n",
       "      <th>1</th>\n",
       "      <td>Seahawks</td>\n",
       "      <td>1557085</td>\n",
       "      <td>10799653</td>\n",
       "      <td>16831423</td>\n",
       "      <td>12778788</td>\n",
       "      <td>27955261</td>\n",
       "      <td>69922210</td>\n",
       "      <td>7701509</td>\n",
       "      <td>25013832</td>\n",
       "      <td>7377232</td>\n",
       "      <td>...</td>\n",
       "      <td>0.136841</td>\n",
       "      <td>0.103893</td>\n",
       "      <td>0.227279</td>\n",
       "      <td>0.568473</td>\n",
       "      <td>0.062614</td>\n",
       "      <td>0.203364</td>\n",
       "      <td>0.059977</td>\n",
       "      <td>0.069753</td>\n",
       "      <td>0.028519</td>\n",
       "      <td>0.424228</td>\n",
       "    </tr>\n",
       "    <tr>\n",
       "      <th>2</th>\n",
       "      <td>Titans</td>\n",
       "      <td>6336958</td>\n",
       "      <td>15376098</td>\n",
       "      <td>12686896</td>\n",
       "      <td>6979500</td>\n",
       "      <td>26721984</td>\n",
       "      <td>68101436</td>\n",
       "      <td>6496528</td>\n",
       "      <td>8776293</td>\n",
       "      <td>5740835</td>\n",
       "      <td>...</td>\n",
       "      <td>0.103145</td>\n",
       "      <td>0.056744</td>\n",
       "      <td>0.217252</td>\n",
       "      <td>0.553670</td>\n",
       "      <td>0.052817</td>\n",
       "      <td>0.071352</td>\n",
       "      <td>0.046673</td>\n",
       "      <td>0.087618</td>\n",
       "      <td>0.078069</td>\n",
       "      <td>0.336530</td>\n",
       "    </tr>\n",
       "    <tr>\n",
       "      <th>3</th>\n",
       "      <td>Broncos</td>\n",
       "      <td>18716295</td>\n",
       "      <td>5070632</td>\n",
       "      <td>10120554</td>\n",
       "      <td>8013902</td>\n",
       "      <td>24318758</td>\n",
       "      <td>66240141</td>\n",
       "      <td>6880138</td>\n",
       "      <td>5313554</td>\n",
       "      <td>12951882</td>\n",
       "      <td>...</td>\n",
       "      <td>0.082281</td>\n",
       "      <td>0.065154</td>\n",
       "      <td>0.197713</td>\n",
       "      <td>0.538538</td>\n",
       "      <td>0.055936</td>\n",
       "      <td>0.043200</td>\n",
       "      <td>0.105300</td>\n",
       "      <td>0.047922</td>\n",
       "      <td>0.142758</td>\n",
       "      <td>0.395115</td>\n",
       "    </tr>\n",
       "    <tr>\n",
       "      <th>4</th>\n",
       "      <td>Giants</td>\n",
       "      <td>21998400</td>\n",
       "      <td>5036739</td>\n",
       "      <td>8677626</td>\n",
       "      <td>2998913</td>\n",
       "      <td>24235900</td>\n",
       "      <td>62947578</td>\n",
       "      <td>5118995</td>\n",
       "      <td>9523813</td>\n",
       "      <td>7916847</td>\n",
       "      <td>...</td>\n",
       "      <td>0.070550</td>\n",
       "      <td>0.024381</td>\n",
       "      <td>0.197040</td>\n",
       "      <td>0.511769</td>\n",
       "      <td>0.041618</td>\n",
       "      <td>0.077429</td>\n",
       "      <td>0.064365</td>\n",
       "      <td>0.103293</td>\n",
       "      <td>0.091074</td>\n",
       "      <td>0.377778</td>\n",
       "    </tr>\n",
       "  </tbody>\n",
       "</table>\n",
       "<p>5 rows × 28 columns</p>\n",
       "</div>"
      ],
      "text/plain": [
       "       team        qb        rb        wr        te        ol   offense  \\\n",
       "0    Eagles  13385137  10203112  19241989   5509036  25664899  74004173   \n",
       "1  Seahawks   1557085  10799653  16831423  12778788  27955261  69922210   \n",
       "2    Titans   6336958  15376098  12686896   6979500  26721984  68101436   \n",
       "3   Broncos  18716295   5070632  10120554   8013902  24318758  66240141   \n",
       "4    Giants  21998400   5036739   8677626   2998913  24235900  62947578   \n",
       "\n",
       "       idl      edge        lb  ...    wr_pct    te_pct    ol_pct  \\\n",
       "0  5264666  10241101  10004817  ...  0.156439  0.044789  0.208658   \n",
       "1  7701509  25013832   7377232  ...  0.136841  0.103893  0.227279   \n",
       "2  6496528   8776293   5740835  ...  0.103145  0.056744  0.217252   \n",
       "3  6880138   5313554  12951882  ...  0.082281  0.065154  0.197713   \n",
       "4  5118995   9523813   7916847  ...  0.070550  0.024381  0.197040   \n",
       "\n",
       "   offense_pct   idl_pct  edge_pct    lb_pct     s_pct    cb_pct  defense_pct  \n",
       "0     0.601660  0.042802  0.083261  0.081340  0.056261  0.049047     0.312711  \n",
       "1     0.568473  0.062614  0.203364  0.059977  0.069753  0.028519     0.424228  \n",
       "2     0.553670  0.052817  0.071352  0.046673  0.087618  0.078069     0.336530  \n",
       "3     0.538538  0.055936  0.043200  0.105300  0.047922  0.142758     0.395115  \n",
       "4     0.511769  0.041618  0.077429  0.064365  0.103293  0.091074     0.377778  \n",
       "\n",
       "[5 rows x 28 columns]"
      ]
     },
     "execution_count": 38,
     "metadata": {},
     "output_type": "execute_result"
    }
   ],
   "source": [
    "for pos in positions:\n",
    "    df[f'{pos}_pct'] = df[pos] / df.cap\n",
    "df.head()"
   ]
  },
  {
   "cell_type": "code",
   "execution_count": 39,
   "metadata": {},
   "outputs": [
    {
     "name": "stderr",
     "output_type": "stream",
     "text": [
      "C:\\Users\\jaime.avendano\\Anaconda3\\lib\\site-packages\\traitlets\\traitlets.py:586: FutureWarning: elementwise comparison failed; returning scalar instead, but in the future will perform elementwise comparison\n",
      "  silent = bool(old_value == new_value)\n"
     ]
    },
    {
     "data": {
      "application/vnd.jupyter.widget-view+json": {
       "model_id": "e77d80d0ff0144c38129d05371a1b20a",
       "version_major": 2,
       "version_minor": 0
      },
      "text/plain": [
       "interactive(children=(Dropdown(description='Select team: ', options=('49ers', 'Bears', 'Bengals', 'Bills', 'Br…"
      ]
     },
     "metadata": {},
     "output_type": "display_data"
    }
   ],
   "source": [
    "@interact(team=widgets.Dropdown(options=teams, description='Select team: '))\n",
    "def f(team):\n",
    "    df_long = df.loc[df.team == team, ['team', 'year','offense_pct','defense_pct']]\n",
    "    df_long = df_long.melt(id_vars=['team', 'year'], value_vars=['offense_pct', 'defense_pct'],\n",
    "                           var_name='position', value_name='cap_pct')\n",
    "    plt.figure(figsize=(15, 10))\n",
    "    sns.lineplot(data=df_long, x='year', y='cap_pct', hue='position')\n",
    "    return None;"
   ]
  },
  {
   "cell_type": "code",
   "execution_count": 40,
   "metadata": {},
   "outputs": [],
   "source": [
    "def get_single_year_data(df, year):\n",
    "    df_year = df[df.year == year][['team', 'offense_pct', 'defense_pct']]\n",
    "    df_year = df_year.join(logos_df.set_index('team'), on='team')\n",
    "    return df_year"
   ]
  },
  {
   "cell_type": "code",
   "execution_count": 41,
   "metadata": {},
   "outputs": [
    {
     "data": {
      "application/vnd.jupyter.widget-view+json": {
       "model_id": "384ea2f6f0df4fbf89d7de8697bd003f",
       "version_major": 2,
       "version_minor": 0
      },
      "text/plain": [
       "interactive(children=(Dropdown(description='Select year: ', options=(2013, 2014, 2015, 2016, 2017, 2018, 2019,…"
      ]
     },
     "metadata": {},
     "output_type": "display_data"
    }
   ],
   "source": [
    "@interact(plot_year=widgets.Dropdown(options=range(2013, 2021), description='Select year: '))\n",
    "def f(plot_year):\n",
    "    plot_df = get_single_year_data(df, plot_year)\n",
    "\n",
    "    plt.figure(figsize=(12, 12))\n",
    "    sns.set_style('darkgrid')\n",
    "    ax = sns.scatterplot(data=df, x='offense_pct', y='defense_pct', s=4)\n",
    "    ax.xaxis.set_major_formatter(mtick.PercentFormatter(1.0))\n",
    "    ax.yaxis.set_major_formatter(mtick.PercentFormatter(1.0))\n",
    "    plt.xlim((0.2, 0.6))\n",
    "    plt.ylim((0.2, 0.6))\n",
    "\n",
    "\n",
    "    for x0, y0, path in zip(plot_df.offense_pct, plot_df.defense_pct, plot_df.path):\n",
    "        ab = AnnotationBbox(getImage(path), (x0, y0), frameon=False, fontsize=4)\n",
    "        ax.add_artist(ab)\n",
    "\n",
    "    plt.suptitle(f'NFL - Cap Spending ({ plot_year } highlighted)', fontsize=20, y=0.93)\n",
    "    plt.title('Does not include dead money for the year.', fontsize=15)\n",
    "    plt.xlabel('% of Cap spent on Offense', fontsize=18)\n",
    "    plt.ylabel('% of Cap spent on Defense', fontsize=18)\n",
    "    plt.show()\n",
    "    return None;"
   ]
  },
  {
   "cell_type": "code",
   "execution_count": 42,
   "metadata": {},
   "outputs": [
    {
     "data": {
      "text/html": [
       "<div>\n",
       "<style scoped>\n",
       "    .dataframe tbody tr th:only-of-type {\n",
       "        vertical-align: middle;\n",
       "    }\n",
       "\n",
       "    .dataframe tbody tr th {\n",
       "        vertical-align: top;\n",
       "    }\n",
       "\n",
       "    .dataframe thead th {\n",
       "        text-align: right;\n",
       "    }\n",
       "</style>\n",
       "<table border=\"1\" class=\"dataframe\">\n",
       "  <thead>\n",
       "    <tr style=\"text-align: right;\">\n",
       "      <th></th>\n",
       "      <th>offense_pct</th>\n",
       "      <th>defense_pct</th>\n",
       "    </tr>\n",
       "  </thead>\n",
       "  <tbody>\n",
       "    <tr>\n",
       "      <th>count</th>\n",
       "      <td>32.000000</td>\n",
       "      <td>32.000000</td>\n",
       "    </tr>\n",
       "    <tr>\n",
       "      <th>mean</th>\n",
       "      <td>0.448416</td>\n",
       "      <td>0.418107</td>\n",
       "    </tr>\n",
       "    <tr>\n",
       "      <th>std</th>\n",
       "      <td>0.032713</td>\n",
       "      <td>0.035482</td>\n",
       "    </tr>\n",
       "    <tr>\n",
       "      <th>min</th>\n",
       "      <td>0.378094</td>\n",
       "      <td>0.343014</td>\n",
       "    </tr>\n",
       "    <tr>\n",
       "      <th>25%</th>\n",
       "      <td>0.434256</td>\n",
       "      <td>0.392952</td>\n",
       "    </tr>\n",
       "    <tr>\n",
       "      <th>50%</th>\n",
       "      <td>0.449247</td>\n",
       "      <td>0.427205</td>\n",
       "    </tr>\n",
       "    <tr>\n",
       "      <th>75%</th>\n",
       "      <td>0.468599</td>\n",
       "      <td>0.443904</td>\n",
       "    </tr>\n",
       "    <tr>\n",
       "      <th>max</th>\n",
       "      <td>0.508775</td>\n",
       "      <td>0.479979</td>\n",
       "    </tr>\n",
       "  </tbody>\n",
       "</table>\n",
       "</div>"
      ],
      "text/plain": [
       "       offense_pct  defense_pct\n",
       "count    32.000000    32.000000\n",
       "mean      0.448416     0.418107\n",
       "std       0.032713     0.035482\n",
       "min       0.378094     0.343014\n",
       "25%       0.434256     0.392952\n",
       "50%       0.449247     0.427205\n",
       "75%       0.468599     0.443904\n",
       "max       0.508775     0.479979"
      ]
     },
     "execution_count": 42,
     "metadata": {},
     "output_type": "execute_result"
    }
   ],
   "source": [
    "team_avg_spending = df[['team', 'offense_pct', 'defense_pct']].groupby('team').mean().reset_index()\n",
    "team_avg_spending.describe()"
   ]
  },
  {
   "cell_type": "code",
   "execution_count": 43,
   "metadata": {},
   "outputs": [
    {
     "data": {
      "text/html": [
       "<div>\n",
       "<style scoped>\n",
       "    .dataframe tbody tr th:only-of-type {\n",
       "        vertical-align: middle;\n",
       "    }\n",
       "\n",
       "    .dataframe tbody tr th {\n",
       "        vertical-align: top;\n",
       "    }\n",
       "\n",
       "    .dataframe thead th {\n",
       "        text-align: right;\n",
       "    }\n",
       "</style>\n",
       "<table border=\"1\" class=\"dataframe\">\n",
       "  <thead>\n",
       "    <tr style=\"text-align: right;\">\n",
       "      <th></th>\n",
       "      <th>team</th>\n",
       "      <th>offense_pct</th>\n",
       "      <th>defense_pct</th>\n",
       "    </tr>\n",
       "  </thead>\n",
       "  <tbody>\n",
       "    <tr>\n",
       "      <th>24</th>\n",
       "      <td>Ravens</td>\n",
       "      <td>0.378094</td>\n",
       "      <td>0.441465</td>\n",
       "    </tr>\n",
       "    <tr>\n",
       "      <th>3</th>\n",
       "      <td>Bills</td>\n",
       "      <td>0.388025</td>\n",
       "      <td>0.450515</td>\n",
       "    </tr>\n",
       "    <tr>\n",
       "      <th>12</th>\n",
       "      <td>Dolphins</td>\n",
       "      <td>0.390519</td>\n",
       "      <td>0.453997</td>\n",
       "    </tr>\n",
       "    <tr>\n",
       "      <th>16</th>\n",
       "      <td>Jaguars</td>\n",
       "      <td>0.402557</td>\n",
       "      <td>0.440993</td>\n",
       "    </tr>\n",
       "    <tr>\n",
       "      <th>4</th>\n",
       "      <td>Broncos</td>\n",
       "      <td>0.408136</td>\n",
       "      <td>0.478347</td>\n",
       "    </tr>\n",
       "  </tbody>\n",
       "</table>\n",
       "</div>"
      ],
      "text/plain": [
       "        team  offense_pct  defense_pct\n",
       "24    Ravens     0.378094     0.441465\n",
       "3      Bills     0.388025     0.450515\n",
       "12  Dolphins     0.390519     0.453997\n",
       "16   Jaguars     0.402557     0.440993\n",
       "4    Broncos     0.408136     0.478347"
      ]
     },
     "execution_count": 43,
     "metadata": {},
     "output_type": "execute_result"
    }
   ],
   "source": [
    "team_avg_spending.sort_values('offense_pct').head()"
   ]
  },
  {
   "cell_type": "markdown",
   "metadata": {},
   "source": [
    "## KMeans Analysis"
   ]
  },
  {
   "cell_type": "code",
   "execution_count": 44,
   "metadata": {},
   "outputs": [],
   "source": [
    "from sklearn.cluster import KMeans\n",
    "from sklearn.metrics import silhouette_score, davies_bouldin_score,v_measure_score"
   ]
  },
  {
   "cell_type": "code",
   "execution_count": 45,
   "metadata": {},
   "outputs": [
    {
     "data": {
      "text/plain": [
       "['qb_pct',\n",
       " 'rb_pct',\n",
       " 'wr_pct',\n",
       " 'te_pct',\n",
       " 'ol_pct',\n",
       " 'idl_pct',\n",
       " 'edge_pct',\n",
       " 'lb_pct',\n",
       " 's_pct',\n",
       " 'cb_pct']"
      ]
     },
     "execution_count": 45,
     "metadata": {},
     "output_type": "execute_result"
    }
   ],
   "source": [
    "positions_pct"
   ]
  },
  {
   "cell_type": "code",
   "execution_count": 46,
   "metadata": {},
   "outputs": [
    {
     "data": {
      "text/html": [
       "<div>\n",
       "<style scoped>\n",
       "    .dataframe tbody tr th:only-of-type {\n",
       "        vertical-align: middle;\n",
       "    }\n",
       "\n",
       "    .dataframe tbody tr th {\n",
       "        vertical-align: top;\n",
       "    }\n",
       "\n",
       "    .dataframe thead th {\n",
       "        text-align: right;\n",
       "    }\n",
       "</style>\n",
       "<table border=\"1\" class=\"dataframe\">\n",
       "  <thead>\n",
       "    <tr style=\"text-align: right;\">\n",
       "      <th></th>\n",
       "      <th>qb_pct</th>\n",
       "      <th>rb_pct</th>\n",
       "      <th>wr_pct</th>\n",
       "      <th>te_pct</th>\n",
       "      <th>ol_pct</th>\n",
       "      <th>idl_pct</th>\n",
       "      <th>edge_pct</th>\n",
       "      <th>lb_pct</th>\n",
       "      <th>s_pct</th>\n",
       "      <th>cb_pct</th>\n",
       "    </tr>\n",
       "  </thead>\n",
       "  <tbody>\n",
       "    <tr>\n",
       "      <th>0</th>\n",
       "      <td>0.108822</td>\n",
       "      <td>0.082952</td>\n",
       "      <td>0.156439</td>\n",
       "      <td>0.044789</td>\n",
       "      <td>0.208658</td>\n",
       "      <td>0.042802</td>\n",
       "      <td>0.083261</td>\n",
       "      <td>0.081340</td>\n",
       "      <td>0.056261</td>\n",
       "      <td>0.049047</td>\n",
       "    </tr>\n",
       "    <tr>\n",
       "      <th>1</th>\n",
       "      <td>0.012659</td>\n",
       "      <td>0.087802</td>\n",
       "      <td>0.136841</td>\n",
       "      <td>0.103893</td>\n",
       "      <td>0.227279</td>\n",
       "      <td>0.062614</td>\n",
       "      <td>0.203364</td>\n",
       "      <td>0.059977</td>\n",
       "      <td>0.069753</td>\n",
       "      <td>0.028519</td>\n",
       "    </tr>\n",
       "    <tr>\n",
       "      <th>2</th>\n",
       "      <td>0.051520</td>\n",
       "      <td>0.125009</td>\n",
       "      <td>0.103145</td>\n",
       "      <td>0.056744</td>\n",
       "      <td>0.217252</td>\n",
       "      <td>0.052817</td>\n",
       "      <td>0.071352</td>\n",
       "      <td>0.046673</td>\n",
       "      <td>0.087618</td>\n",
       "      <td>0.078069</td>\n",
       "    </tr>\n",
       "    <tr>\n",
       "      <th>3</th>\n",
       "      <td>0.152165</td>\n",
       "      <td>0.041225</td>\n",
       "      <td>0.082281</td>\n",
       "      <td>0.065154</td>\n",
       "      <td>0.197713</td>\n",
       "      <td>0.055936</td>\n",
       "      <td>0.043200</td>\n",
       "      <td>0.105300</td>\n",
       "      <td>0.047922</td>\n",
       "      <td>0.142758</td>\n",
       "    </tr>\n",
       "    <tr>\n",
       "      <th>4</th>\n",
       "      <td>0.178849</td>\n",
       "      <td>0.040949</td>\n",
       "      <td>0.070550</td>\n",
       "      <td>0.024381</td>\n",
       "      <td>0.197040</td>\n",
       "      <td>0.041618</td>\n",
       "      <td>0.077429</td>\n",
       "      <td>0.064365</td>\n",
       "      <td>0.103293</td>\n",
       "      <td>0.091074</td>\n",
       "    </tr>\n",
       "  </tbody>\n",
       "</table>\n",
       "</div>"
      ],
      "text/plain": [
       "     qb_pct    rb_pct    wr_pct    te_pct    ol_pct   idl_pct  edge_pct  \\\n",
       "0  0.108822  0.082952  0.156439  0.044789  0.208658  0.042802  0.083261   \n",
       "1  0.012659  0.087802  0.136841  0.103893  0.227279  0.062614  0.203364   \n",
       "2  0.051520  0.125009  0.103145  0.056744  0.217252  0.052817  0.071352   \n",
       "3  0.152165  0.041225  0.082281  0.065154  0.197713  0.055936  0.043200   \n",
       "4  0.178849  0.040949  0.070550  0.024381  0.197040  0.041618  0.077429   \n",
       "\n",
       "     lb_pct     s_pct    cb_pct  \n",
       "0  0.081340  0.056261  0.049047  \n",
       "1  0.059977  0.069753  0.028519  \n",
       "2  0.046673  0.087618  0.078069  \n",
       "3  0.105300  0.047922  0.142758  \n",
       "4  0.064365  0.103293  0.091074  "
      ]
     },
     "execution_count": 46,
     "metadata": {},
     "output_type": "execute_result"
    }
   ],
   "source": [
    "#kmeans_data = df.join(details_df.set_index(['year', 'team']), on=['year', 'team'], how='inner')[positions_pct + ['win_pct']].copy()\n",
    "#kmeans_data = df.join(details_df.set_index(['year', 'team']), on=['year', 'team'], how='inner')[['offense_pct', 'defense_pct']].copy()\n",
    "kmeans_data = df.join(details_df.set_index(['year', 'team']), on=['year', 'team'], how='inner')[positions_pct].copy()\n",
    "kmeans_data.head()"
   ]
  },
  {
   "cell_type": "code",
   "execution_count": 47,
   "metadata": {},
   "outputs": [],
   "source": [
    "kmeans_data['skill_pos_pct'] = kmeans_data['rb_pct'] + kmeans_data['wr_pct'] + kmeans_data['te_pct']\n",
    "kmeans_data['def_front_pct'] = kmeans_data['idl_pct'] + kmeans_data['edge_pct'] + kmeans_data['lb_pct']\n",
    "kmeans_data['def_backs_pct'] = kmeans_data['s_pct'] + kmeans_data['cb_pct']\n",
    "kmeans_data = kmeans_data.drop(columns=['rb_pct', 'wr_pct', 'te_pct', 'idl_pct', 'edge_pct', 'lb_pct', 's_pct', 'cb_pct'])"
   ]
  },
  {
   "cell_type": "code",
   "execution_count": 48,
   "metadata": {},
   "outputs": [
    {
     "data": {
      "text/html": [
       "<div>\n",
       "<style scoped>\n",
       "    .dataframe tbody tr th:only-of-type {\n",
       "        vertical-align: middle;\n",
       "    }\n",
       "\n",
       "    .dataframe tbody tr th {\n",
       "        vertical-align: top;\n",
       "    }\n",
       "\n",
       "    .dataframe thead th {\n",
       "        text-align: right;\n",
       "    }\n",
       "</style>\n",
       "<table border=\"1\" class=\"dataframe\">\n",
       "  <thead>\n",
       "    <tr style=\"text-align: right;\">\n",
       "      <th></th>\n",
       "      <th>qb_pct</th>\n",
       "      <th>ol_pct</th>\n",
       "      <th>skill_pos_pct</th>\n",
       "      <th>def_front_pct</th>\n",
       "      <th>def_backs_pct</th>\n",
       "    </tr>\n",
       "  </thead>\n",
       "  <tbody>\n",
       "    <tr>\n",
       "      <th>count</th>\n",
       "      <td>256.000000</td>\n",
       "      <td>256.000000</td>\n",
       "      <td>256.000000</td>\n",
       "      <td>256.000000</td>\n",
       "      <td>256.000000</td>\n",
       "    </tr>\n",
       "    <tr>\n",
       "      <th>mean</th>\n",
       "      <td>0.094615</td>\n",
       "      <td>0.158892</td>\n",
       "      <td>0.184358</td>\n",
       "      <td>0.259330</td>\n",
       "      <td>0.149787</td>\n",
       "    </tr>\n",
       "    <tr>\n",
       "      <th>std</th>\n",
       "      <td>0.048310</td>\n",
       "      <td>0.041257</td>\n",
       "      <td>0.045228</td>\n",
       "      <td>0.059617</td>\n",
       "      <td>0.049788</td>\n",
       "    </tr>\n",
       "    <tr>\n",
       "      <th>min</th>\n",
       "      <td>0.007666</td>\n",
       "      <td>0.040623</td>\n",
       "      <td>0.076744</td>\n",
       "      <td>0.089453</td>\n",
       "      <td>0.050437</td>\n",
       "    </tr>\n",
       "    <tr>\n",
       "      <th>25%</th>\n",
       "      <td>0.053108</td>\n",
       "      <td>0.130671</td>\n",
       "      <td>0.156896</td>\n",
       "      <td>0.215515</td>\n",
       "      <td>0.111904</td>\n",
       "    </tr>\n",
       "    <tr>\n",
       "      <th>50%</th>\n",
       "      <td>0.095976</td>\n",
       "      <td>0.154496</td>\n",
       "      <td>0.184788</td>\n",
       "      <td>0.259532</td>\n",
       "      <td>0.151131</td>\n",
       "    </tr>\n",
       "    <tr>\n",
       "      <th>75%</th>\n",
       "      <td>0.133372</td>\n",
       "      <td>0.190164</td>\n",
       "      <td>0.212091</td>\n",
       "      <td>0.305886</td>\n",
       "      <td>0.182531</td>\n",
       "    </tr>\n",
       "    <tr>\n",
       "      <th>max</th>\n",
       "      <td>0.237667</td>\n",
       "      <td>0.281236</td>\n",
       "      <td>0.328535</td>\n",
       "      <td>0.404949</td>\n",
       "      <td>0.332771</td>\n",
       "    </tr>\n",
       "  </tbody>\n",
       "</table>\n",
       "</div>"
      ],
      "text/plain": [
       "           qb_pct      ol_pct  skill_pos_pct  def_front_pct  def_backs_pct\n",
       "count  256.000000  256.000000     256.000000     256.000000     256.000000\n",
       "mean     0.094615    0.158892       0.184358       0.259330       0.149787\n",
       "std      0.048310    0.041257       0.045228       0.059617       0.049788\n",
       "min      0.007666    0.040623       0.076744       0.089453       0.050437\n",
       "25%      0.053108    0.130671       0.156896       0.215515       0.111904\n",
       "50%      0.095976    0.154496       0.184788       0.259532       0.151131\n",
       "75%      0.133372    0.190164       0.212091       0.305886       0.182531\n",
       "max      0.237667    0.281236       0.328535       0.404949       0.332771"
      ]
     },
     "execution_count": 48,
     "metadata": {},
     "output_type": "execute_result"
    }
   ],
   "source": [
    "kmeans_data.describe()"
   ]
  },
  {
   "cell_type": "code",
   "execution_count": 49,
   "metadata": {},
   "outputs": [],
   "source": [
    "kmeans_kwargs = {\n",
    "    'init': 'k-means++',\n",
    "    'n_init': 10,\n",
    "    'max_iter': 100,\n",
    "    'random_state': 42\n",
    "}"
   ]
  },
  {
   "cell_type": "code",
   "execution_count": 50,
   "metadata": {},
   "outputs": [],
   "source": [
    "km_scores= []\n",
    "km_silhouette = []\n",
    "db_score = []\n",
    "\n",
    "for k in range(2, 11):\n",
    "    km = KMeans(n_clusters=k, **kmeans_kwargs)\n",
    "    km.fit(kmeans_data)\n",
    "    preds = km.predict(kmeans_data)\n",
    "    \n",
    "    km_scores.append(-km.score(kmeans_data))\n",
    "    km_silhouette.append(silhouette_score(kmeans_data, preds))\n",
    "    db_score.append(davies_bouldin_score(kmeans_data, preds))"
   ]
  },
  {
   "cell_type": "code",
   "execution_count": 51,
   "metadata": {},
   "outputs": [
    {
     "data": {
      "image/png": "[encoded data removed]",
      "text/plain": [
       "<Figure size 1080x720 with 3 Axes>"
      ]
     },
     "metadata": {},
     "output_type": "display_data"
    }
   ],
   "source": [
    "fig, axs = plt.subplots(3, sharex=True)\n",
    "fig.set_figheight(10)\n",
    "fig.set_figwidth(15)\n",
    "\n",
    "axs[0].scatter(x=range(2, 11), y=km_scores)\n",
    "axs[0].set_title('The elbow method with Score')\n",
    "axs[0].set(ylabel='WCSS')\n",
    "\n",
    "axs[1].scatter(x=range(2, 11), y=km_silhouette)\n",
    "axs[1].set_title('KMeans with Silhouette Score')\n",
    "axs[1].set(ylabel='Silhouette Score')\n",
    "\n",
    "axs[2].scatter(x=range(2, 11), y=db_score)\n",
    "axs[2].set_title('KMeans with Davies-Bouldin Score')\n",
    "axs[2].set(ylabel='DB Score')\n",
    "\n",
    "plt.show();"
   ]
  },
  {
   "cell_type": "code",
   "execution_count": 52,
   "metadata": {},
   "outputs": [],
   "source": [
    "km = KMeans(n_clusters=6, **kmeans_kwargs)\n",
    "nfl_pred = km.fit_predict(kmeans_data)"
   ]
  },
  {
   "cell_type": "code",
   "execution_count": 53,
   "metadata": {},
   "outputs": [],
   "source": [
    "df_grouped = df[df.year <= 2020].copy()\n",
    "df_grouped['group'] = nfl_pred"
   ]
  },
  {
   "cell_type": "code",
   "execution_count": 54,
   "metadata": {},
   "outputs": [
    {
     "data": {
      "text/html": [
       "<div>\n",
       "<style scoped>\n",
       "    .dataframe tbody tr th:only-of-type {\n",
       "        vertical-align: middle;\n",
       "    }\n",
       "\n",
       "    .dataframe tbody tr th {\n",
       "        vertical-align: top;\n",
       "    }\n",
       "\n",
       "    .dataframe thead th {\n",
       "        text-align: right;\n",
       "    }\n",
       "</style>\n",
       "<table border=\"1\" class=\"dataframe\">\n",
       "  <thead>\n",
       "    <tr style=\"text-align: right;\">\n",
       "      <th></th>\n",
       "      <th>group</th>\n",
       "      <th>teams</th>\n",
       "    </tr>\n",
       "  </thead>\n",
       "  <tbody>\n",
       "    <tr>\n",
       "      <th>0</th>\n",
       "      <td>2</td>\n",
       "      <td>Packers, Chargers, Giants</td>\n",
       "    </tr>\n",
       "    <tr>\n",
       "      <th>1</th>\n",
       "      <td>4</td>\n",
       "      <td>Buccaneers, Rams, Bills</td>\n",
       "    </tr>\n",
       "    <tr>\n",
       "      <th>3</th>\n",
       "      <td>0</td>\n",
       "      <td>Washington, Raiders, Titans, Lions, Patriots, ...</td>\n",
       "    </tr>\n",
       "    <tr>\n",
       "      <th>4</th>\n",
       "      <td>1</td>\n",
       "      <td>Bengals, Browns, Cowboys, Colts, Chiefs, Eagle...</td>\n",
       "    </tr>\n",
       "    <tr>\n",
       "      <th>7</th>\n",
       "      <td>5</td>\n",
       "      <td>49ers, Saints, Falcons, Seahawks, Steelers, Pa...</td>\n",
       "    </tr>\n",
       "    <tr>\n",
       "      <th>13</th>\n",
       "      <td>3</td>\n",
       "      <td>Vikings, Texans, Bears</td>\n",
       "    </tr>\n",
       "  </tbody>\n",
       "</table>\n",
       "</div>"
      ],
      "text/plain": [
       "    group                                              teams\n",
       "0       2                          Packers, Chargers, Giants\n",
       "1       4                            Buccaneers, Rams, Bills\n",
       "3       0  Washington, Raiders, Titans, Lions, Patriots, ...\n",
       "4       1  Bengals, Browns, Cowboys, Colts, Chiefs, Eagle...\n",
       "7       5  49ers, Saints, Falcons, Seahawks, Steelers, Pa...\n",
       "13      3                             Vikings, Texans, Bears"
      ]
     },
     "execution_count": 54,
     "metadata": {},
     "output_type": "execute_result"
    }
   ],
   "source": [
    "df_grouped['teams'] = df_grouped[df_grouped.year == 2019][['group', 'team']].reset_index().groupby(['group'])['team'].transform(lambda x: ', '.join(x))\n",
    "group_2019_df = df_grouped[df_grouped.year == 2019][['group', 'teams']].drop_duplicates()\n",
    "group_2019_df\n"
   ]
  },
  {
   "cell_type": "code",
   "execution_count": 55,
   "metadata": {},
   "outputs": [
    {
     "data": {
      "text/html": [
       "<div>\n",
       "<style scoped>\n",
       "    .dataframe tbody tr th:only-of-type {\n",
       "        vertical-align: middle;\n",
       "    }\n",
       "\n",
       "    .dataframe tbody tr th {\n",
       "        vertical-align: top;\n",
       "    }\n",
       "\n",
       "    .dataframe thead th {\n",
       "        text-align: right;\n",
       "    }\n",
       "</style>\n",
       "<table border=\"1\" class=\"dataframe\">\n",
       "  <thead>\n",
       "    <tr style=\"text-align: right;\">\n",
       "      <th></th>\n",
       "      <th>qb_pct</th>\n",
       "      <th>ol_pct</th>\n",
       "      <th>skill_pos_pct</th>\n",
       "      <th>def_front_pct</th>\n",
       "      <th>def_backs_pct</th>\n",
       "    </tr>\n",
       "  </thead>\n",
       "  <tbody>\n",
       "    <tr>\n",
       "      <th>0</th>\n",
       "      <td>0.119513</td>\n",
       "      <td>0.150984</td>\n",
       "      <td>0.158227</td>\n",
       "      <td>0.186586</td>\n",
       "      <td>0.196191</td>\n",
       "    </tr>\n",
       "    <tr>\n",
       "      <th>1</th>\n",
       "      <td>0.044367</td>\n",
       "      <td>0.191741</td>\n",
       "      <td>0.201702</td>\n",
       "      <td>0.232452</td>\n",
       "      <td>0.155091</td>\n",
       "    </tr>\n",
       "    <tr>\n",
       "      <th>2</th>\n",
       "      <td>0.135194</td>\n",
       "      <td>0.161479</td>\n",
       "      <td>0.200706</td>\n",
       "      <td>0.222426</td>\n",
       "      <td>0.116409</td>\n",
       "    </tr>\n",
       "    <tr>\n",
       "      <th>3</th>\n",
       "      <td>0.071422</td>\n",
       "      <td>0.130103</td>\n",
       "      <td>0.189287</td>\n",
       "      <td>0.301982</td>\n",
       "      <td>0.183293</td>\n",
       "    </tr>\n",
       "    <tr>\n",
       "      <th>4</th>\n",
       "      <td>0.068724</td>\n",
       "      <td>0.165448</td>\n",
       "      <td>0.217353</td>\n",
       "      <td>0.326246</td>\n",
       "      <td>0.097044</td>\n",
       "    </tr>\n",
       "    <tr>\n",
       "      <th>5</th>\n",
       "      <td>0.119417</td>\n",
       "      <td>0.172083</td>\n",
       "      <td>0.127278</td>\n",
       "      <td>0.299409</td>\n",
       "      <td>0.134926</td>\n",
       "    </tr>\n",
       "  </tbody>\n",
       "</table>\n",
       "</div>"
      ],
      "text/plain": [
       "     qb_pct    ol_pct  skill_pos_pct  def_front_pct  def_backs_pct\n",
       "0  0.119513  0.150984       0.158227       0.186586       0.196191\n",
       "1  0.044367  0.191741       0.201702       0.232452       0.155091\n",
       "2  0.135194  0.161479       0.200706       0.222426       0.116409\n",
       "3  0.071422  0.130103       0.189287       0.301982       0.183293\n",
       "4  0.068724  0.165448       0.217353       0.326246       0.097044\n",
       "5  0.119417  0.172083       0.127278       0.299409       0.134926"
      ]
     },
     "execution_count": 55,
     "metadata": {},
     "output_type": "execute_result"
    }
   ],
   "source": [
    "km_centers_df = pd.DataFrame(km.cluster_centers_, columns=['qb_pct', 'ol_pct', 'skill_pos_pct', 'def_front_pct', 'def_backs_pct'])\n",
    "km_centers_df"
   ]
  },
  {
   "cell_type": "code",
   "execution_count": 88,
   "metadata": {},
   "outputs": [
    {
     "data": {
      "text/html": [
       "<div>\n",
       "<style scoped>\n",
       "    .dataframe tbody tr th:only-of-type {\n",
       "        vertical-align: middle;\n",
       "    }\n",
       "\n",
       "    .dataframe tbody tr th {\n",
       "        vertical-align: top;\n",
       "    }\n",
       "\n",
       "    .dataframe thead th {\n",
       "        text-align: right;\n",
       "    }\n",
       "</style>\n",
       "<table border=\"1\" class=\"dataframe\">\n",
       "  <thead>\n",
       "    <tr style=\"text-align: right;\">\n",
       "      <th></th>\n",
       "      <th>qb_pct</th>\n",
       "      <th>ol_pct</th>\n",
       "      <th>skill_pos_pct</th>\n",
       "      <th>def_front_pct</th>\n",
       "      <th>def_backs_pct</th>\n",
       "      <th>teams</th>\n",
       "      <th>qb_rank</th>\n",
       "      <th>ol_rank</th>\n",
       "      <th>skill_pos_rank</th>\n",
       "      <th>def_front_rank</th>\n",
       "      <th>def_backs_rank</th>\n",
       "    </tr>\n",
       "  </thead>\n",
       "  <tbody>\n",
       "    <tr>\n",
       "      <th>0</th>\n",
       "      <td>0.119513</td>\n",
       "      <td>0.150984</td>\n",
       "      <td>0.158227</td>\n",
       "      <td>0.186586</td>\n",
       "      <td>0.196191</td>\n",
       "      <td>Washington, Raiders, Titans, Lions, Patriots, ...</td>\n",
       "      <td>4</td>\n",
       "      <td>1</td>\n",
       "      <td>1</td>\n",
       "      <td>0</td>\n",
       "      <td>5</td>\n",
       "    </tr>\n",
       "    <tr>\n",
       "      <th>1</th>\n",
       "      <td>0.044367</td>\n",
       "      <td>0.191741</td>\n",
       "      <td>0.201702</td>\n",
       "      <td>0.232452</td>\n",
       "      <td>0.155091</td>\n",
       "      <td>Bengals, Browns, Cowboys, Colts, Chiefs, Eagle...</td>\n",
       "      <td>0</td>\n",
       "      <td>5</td>\n",
       "      <td>4</td>\n",
       "      <td>2</td>\n",
       "      <td>3</td>\n",
       "    </tr>\n",
       "    <tr>\n",
       "      <th>2</th>\n",
       "      <td>0.135194</td>\n",
       "      <td>0.161479</td>\n",
       "      <td>0.200706</td>\n",
       "      <td>0.222426</td>\n",
       "      <td>0.116409</td>\n",
       "      <td>Packers, Chargers, Giants</td>\n",
       "      <td>5</td>\n",
       "      <td>2</td>\n",
       "      <td>3</td>\n",
       "      <td>1</td>\n",
       "      <td>1</td>\n",
       "    </tr>\n",
       "    <tr>\n",
       "      <th>3</th>\n",
       "      <td>0.071422</td>\n",
       "      <td>0.130103</td>\n",
       "      <td>0.189287</td>\n",
       "      <td>0.301982</td>\n",
       "      <td>0.183293</td>\n",
       "      <td>Vikings, Texans, Bears</td>\n",
       "      <td>2</td>\n",
       "      <td>0</td>\n",
       "      <td>2</td>\n",
       "      <td>4</td>\n",
       "      <td>4</td>\n",
       "    </tr>\n",
       "    <tr>\n",
       "      <th>4</th>\n",
       "      <td>0.068724</td>\n",
       "      <td>0.165448</td>\n",
       "      <td>0.217353</td>\n",
       "      <td>0.326246</td>\n",
       "      <td>0.097044</td>\n",
       "      <td>Buccaneers, Rams, Bills</td>\n",
       "      <td>1</td>\n",
       "      <td>3</td>\n",
       "      <td>5</td>\n",
       "      <td>5</td>\n",
       "      <td>0</td>\n",
       "    </tr>\n",
       "    <tr>\n",
       "      <th>5</th>\n",
       "      <td>0.119417</td>\n",
       "      <td>0.172083</td>\n",
       "      <td>0.127278</td>\n",
       "      <td>0.299409</td>\n",
       "      <td>0.134926</td>\n",
       "      <td>49ers, Saints, Falcons, Seahawks, Steelers, Pa...</td>\n",
       "      <td>3</td>\n",
       "      <td>4</td>\n",
       "      <td>0</td>\n",
       "      <td>3</td>\n",
       "      <td>2</td>\n",
       "    </tr>\n",
       "  </tbody>\n",
       "</table>\n",
       "</div>"
      ],
      "text/plain": [
       "     qb_pct    ol_pct  skill_pos_pct  def_front_pct  def_backs_pct  \\\n",
       "0  0.119513  0.150984       0.158227       0.186586       0.196191   \n",
       "1  0.044367  0.191741       0.201702       0.232452       0.155091   \n",
       "2  0.135194  0.161479       0.200706       0.222426       0.116409   \n",
       "3  0.071422  0.130103       0.189287       0.301982       0.183293   \n",
       "4  0.068724  0.165448       0.217353       0.326246       0.097044   \n",
       "5  0.119417  0.172083       0.127278       0.299409       0.134926   \n",
       "\n",
       "                                               teams  qb_rank  ol_rank  \\\n",
       "0  Washington, Raiders, Titans, Lions, Patriots, ...        4        1   \n",
       "1  Bengals, Browns, Cowboys, Colts, Chiefs, Eagle...        0        5   \n",
       "2                          Packers, Chargers, Giants        5        2   \n",
       "3                             Vikings, Texans, Bears        2        0   \n",
       "4                            Buccaneers, Rams, Bills        1        3   \n",
       "5  49ers, Saints, Falcons, Seahawks, Steelers, Pa...        3        4   \n",
       "\n",
       "   skill_pos_rank  def_front_rank  def_backs_rank  \n",
       "0               1               0               5  \n",
       "1               4               2               3  \n",
       "2               3               1               1  \n",
       "3               2               4               4  \n",
       "4               5               5               0  \n",
       "5               0               3               2  "
      ]
     },
     "execution_count": 88,
     "metadata": {},
     "output_type": "execute_result"
    }
   ],
   "source": [
    "km_table = km_centers_df.join(group_2019_df.set_index('group'))\n",
    "km_table['qb_rank'] = km_table.qb_pct.rank(method='first', ascending=True).astype('int') - 1\n",
    "km_table['ol_rank'] = km_table.ol_pct.rank(method='first', ascending=True).astype('int') - 1\n",
    "km_table['skill_pos_rank'] = km_table.skill_pos_pct.rank(method='first', ascending=True).astype('int') - 1\n",
    "km_table['def_front_rank'] = km_table.def_front_pct.rank(method='first', ascending=True).astype('int') - 1\n",
    "km_table['def_backs_rank'] = km_table.def_backs_pct.rank(method='first', ascending=True).astype('int') - 1\n",
    "km_table"
   ]
  },
  {
   "cell_type": "code",
   "execution_count": 158,
   "metadata": {},
   "outputs": [
    {
     "data": {
      "application/vnd.plotly.v1+json": {
       "config": {
        "plotlyServerURL": "https://plot.ly"
       },
       "data": [
        {
         "cells": {
          "align": [
           "left",
           "left",
           "center"
          ],
          "fill": {
           "color": [
            [
             "rgb(225.0, 225.0, 255.0)",
             "rgb(205.0, 205.0, 255.0)",
             "rgb(185.0, 185.0, 255.0)",
             "rgb(165.0, 165.0, 255.0)",
             "rgb(145.0, 145.0, 255.0)",
             "rgb(125.0, 125.0, 255.0)"
            ],
            [
             "rgb(225.0, 225.0, 255.0)",
             "rgb(205.0, 205.0, 255.0)",
             "rgb(185.0, 185.0, 255.0)",
             "rgb(165.0, 165.0, 255.0)",
             "rgb(145.0, 145.0, 255.0)",
             "rgb(125.0, 125.0, 255.0)"
            ],
            [
             "rgb(145.0, 145.0, 255.0)",
             "rgb(225.0, 225.0, 255.0)",
             "rgb(125.0, 125.0, 255.0)",
             "rgb(185.0, 185.0, 255.0)",
             "rgb(205.0, 205.0, 255.0)",
             "rgb(165.0, 165.0, 255.0)"
            ],
            [
             "rgb(205.0, 205.0, 255.0)",
             "rgb(125.0, 125.0, 255.0)",
             "rgb(185.0, 185.0, 255.0)",
             "rgb(225.0, 225.0, 255.0)",
             "rgb(165.0, 165.0, 255.0)",
             "rgb(145.0, 145.0, 255.0)"
            ],
            [
             "rgb(205.0, 205.0, 255.0)",
             "rgb(145.0, 145.0, 255.0)",
             "rgb(165.0, 165.0, 255.0)",
             "rgb(185.0, 185.0, 255.0)",
             "rgb(125.0, 125.0, 255.0)",
             "rgb(225.0, 225.0, 255.0)"
            ],
            [
             "rgb(225.0, 225.0, 255.0)",
             "rgb(185.0, 185.0, 255.0)",
             "rgb(205.0, 205.0, 255.0)",
             "rgb(145.0, 145.0, 255.0)",
             "rgb(125.0, 125.0, 255.0)",
             "rgb(165.0, 165.0, 255.0)"
            ],
            [
             "rgb(125.0, 125.0, 255.0)",
             "rgb(165.0, 165.0, 255.0)",
             "rgb(205.0, 205.0, 255.0)",
             "rgb(145.0, 145.0, 255.0)",
             "rgb(225.0, 225.0, 255.0)",
             "rgb(185.0, 185.0, 255.0)"
            ]
           ]
          },
          "font": {
           "color": "black",
           "size": 13
          },
          "format": [
           null,
           null,
           ".3p"
          ],
          "line": {
           "color": "black"
          },
          "values": [
           [
            0,
            1,
            2,
            3,
            4,
            5
           ],
           [
            "Washington, Raiders, Titans, Lions, Patriots, Ravens, Dolphins",
            "Bengals, Browns, Cowboys, Colts, Chiefs, Eagles, Jets, Cardinals, Jaguars",
            "Packers, Chargers, Giants",
            "Vikings, Texans, Bears",
            "Buccaneers, Rams, Bills",
            "49ers, Saints, Falcons, Seahawks, Steelers, Panthers, Broncos"
           ],
           [
            0.119512558971068,
            0.04436741479336779,
            0.13519390941537898,
            0.07142230113054876,
            0.06872411503292912,
            0.11941728163984384
           ],
           [
            0.15098438766698014,
            0.19174051295346534,
            0.16147939202057246,
            0.13010292394979675,
            0.1654483737949208,
            0.17208344678170717
           ],
           [
            0.15822668871155568,
            0.20170237058803203,
            0.20070587467714196,
            0.1892867443821866,
            0.21735340491864077,
            0.12727820732248582
           ],
           [
            0.18658598366041151,
            0.232452011159666,
            0.22242619858875373,
            0.3019820741186818,
            0.3262456629011091,
            0.29940853265373374
           ],
           [
            0.19619058276005985,
            0.15509086753905982,
            0.11640887215306006,
            0.18329310712092123,
            0.09704432699988078,
            0.13492571571715822
           ]
          ]
         },
         "columnwidth": [
          5,
          30,
          10,
          10,
          10,
          10,
          10
         ],
         "header": {
          "align": [
           "left",
           "left",
           "center"
          ],
          "fill": {
           "color": "white"
          },
          "font": {
           "color": "black",
           "size": 15
          },
          "line": {
           "color": "black"
          },
          "values": [
           "<b>Cluster</b>",
           "<b>Teams</b>",
           "<b>QB %</b>",
           "<b>OL %</b>",
           "<b>Skill Pos %</b>",
           "<b>Def Front %</b>",
           "<b>Def Backs %</b>"
          ]
         },
         "type": "table"
        }
       ],
       "layout": {
        "height": 250,
        "margin": {
         "b": 20,
         "l": 20,
         "r": 20,
         "t": 55
        },
        "template": {
         "data": {
          "bar": [
           {
            "error_x": {
             "color": "#2a3f5f"
            },
            "error_y": {
             "color": "#2a3f5f"
            },
            "marker": {
             "line": {
              "color": "#E5ECF6",
              "width": 0.5
             }
            },
            "type": "bar"
           }
          ],
          "barpolar": [
           {
            "marker": {
             "line": {
              "color": "#E5ECF6",
              "width": 0.5
             }
            },
            "type": "barpolar"
           }
          ],
          "carpet": [
           {
            "aaxis": {
             "endlinecolor": "#2a3f5f",
             "gridcolor": "white",
             "linecolor": "white",
             "minorgridcolor": "white",
             "startlinecolor": "#2a3f5f"
            },
            "baxis": {
             "endlinecolor": "#2a3f5f",
             "gridcolor": "white",
             "linecolor": "white",
             "minorgridcolor": "white",
             "startlinecolor": "#2a3f5f"
            },
            "type": "carpet"
           }
          ],
          "choropleth": [
           {
            "colorbar": {
             "outlinewidth": 0,
             "ticks": ""
            },
            "type": "choropleth"
           }
          ],
          "contour": [
           {
            "colorbar": {
             "outlinewidth": 0,
             "ticks": ""
            },
            "colorscale": [
             [
              0,
              "#0d0887"
             ],
             [
              0.1111111111111111,
              "#46039f"
             ],
             [
              0.2222222222222222,
              "#7201a8"
             ],
             [
              0.3333333333333333,
              "#9c179e"
             ],
             [
              0.4444444444444444,
              "#bd3786"
             ],
             [
              0.5555555555555556,
              "#d8576b"
             ],
             [
              0.6666666666666666,
              "#ed7953"
             ],
             [
              0.7777777777777778,
              "#fb9f3a"
             ],
             [
              0.8888888888888888,
              "#fdca26"
             ],
             [
              1,
              "#f0f921"
             ]
            ],
            "type": "contour"
           }
          ],
          "contourcarpet": [
           {
            "colorbar": {
             "outlinewidth": 0,
             "ticks": ""
            },
            "type": "contourcarpet"
           }
          ],
          "heatmap": [
           {
            "colorbar": {
             "outlinewidth": 0,
             "ticks": ""
            },
            "colorscale": [
             [
              0,
              "#0d0887"
             ],
             [
              0.1111111111111111,
              "#46039f"
             ],
             [
              0.2222222222222222,
              "#7201a8"
             ],
             [
              0.3333333333333333,
              "#9c179e"
             ],
             [
              0.4444444444444444,
              "#bd3786"
             ],
             [
              0.5555555555555556,
              "#d8576b"
             ],
             [
              0.6666666666666666,
              "#ed7953"
             ],
             [
              0.7777777777777778,
              "#fb9f3a"
             ],
             [
              0.8888888888888888,
              "#fdca26"
             ],
             [
              1,
              "#f0f921"
             ]
            ],
            "type": "heatmap"
           }
          ],
          "heatmapgl": [
           {
            "colorbar": {
             "outlinewidth": 0,
             "ticks": ""
            },
            "colorscale": [
             [
              0,
              "#0d0887"
             ],
             [
              0.1111111111111111,
              "#46039f"
             ],
             [
              0.2222222222222222,
              "#7201a8"
             ],
             [
              0.3333333333333333,
              "#9c179e"
             ],
             [
              0.4444444444444444,
              "#bd3786"
             ],
             [
              0.5555555555555556,
              "#d8576b"
             ],
             [
              0.6666666666666666,
              "#ed7953"
             ],
             [
              0.7777777777777778,
              "#fb9f3a"
             ],
             [
              0.8888888888888888,
              "#fdca26"
             ],
             [
              1,
              "#f0f921"
             ]
            ],
            "type": "heatmapgl"
           }
          ],
          "histogram": [
           {
            "marker": {
             "colorbar": {
              "outlinewidth": 0,
              "ticks": ""
             }
            },
            "type": "histogram"
           }
          ],
          "histogram2d": [
           {
            "colorbar": {
             "outlinewidth": 0,
             "ticks": ""
            },
            "colorscale": [
             [
              0,
              "#0d0887"
             ],
             [
              0.1111111111111111,
              "#46039f"
             ],
             [
              0.2222222222222222,
              "#7201a8"
             ],
             [
              0.3333333333333333,
              "#9c179e"
             ],
             [
              0.4444444444444444,
              "#bd3786"
             ],
             [
              0.5555555555555556,
              "#d8576b"
             ],
             [
              0.6666666666666666,
              "#ed7953"
             ],
             [
              0.7777777777777778,
              "#fb9f3a"
             ],
             [
              0.8888888888888888,
              "#fdca26"
             ],
             [
              1,
              "#f0f921"
             ]
            ],
            "type": "histogram2d"
           }
          ],
          "histogram2dcontour": [
           {
            "colorbar": {
             "outlinewidth": 0,
             "ticks": ""
            },
            "colorscale": [
             [
              0,
              "#0d0887"
             ],
             [
              0.1111111111111111,
              "#46039f"
             ],
             [
              0.2222222222222222,
              "#7201a8"
             ],
             [
              0.3333333333333333,
              "#9c179e"
             ],
             [
              0.4444444444444444,
              "#bd3786"
             ],
             [
              0.5555555555555556,
              "#d8576b"
             ],
             [
              0.6666666666666666,
              "#ed7953"
             ],
             [
              0.7777777777777778,
              "#fb9f3a"
             ],
             [
              0.8888888888888888,
              "#fdca26"
             ],
             [
              1,
              "#f0f921"
             ]
            ],
            "type": "histogram2dcontour"
           }
          ],
          "mesh3d": [
           {
            "colorbar": {
             "outlinewidth": 0,
             "ticks": ""
            },
            "type": "mesh3d"
           }
          ],
          "parcoords": [
           {
            "line": {
             "colorbar": {
              "outlinewidth": 0,
              "ticks": ""
             }
            },
            "type": "parcoords"
           }
          ],
          "pie": [
           {
            "automargin": true,
            "type": "pie"
           }
          ],
          "scatter": [
           {
            "marker": {
             "colorbar": {
              "outlinewidth": 0,
              "ticks": ""
             }
            },
            "type": "scatter"
           }
          ],
          "scatter3d": [
           {
            "line": {
             "colorbar": {
              "outlinewidth": 0,
              "ticks": ""
             }
            },
            "marker": {
             "colorbar": {
              "outlinewidth": 0,
              "ticks": ""
             }
            },
            "type": "scatter3d"
           }
          ],
          "scattercarpet": [
           {
            "marker": {
             "colorbar": {
              "outlinewidth": 0,
              "ticks": ""
             }
            },
            "type": "scattercarpet"
           }
          ],
          "scattergeo": [
           {
            "marker": {
             "colorbar": {
              "outlinewidth": 0,
              "ticks": ""
             }
            },
            "type": "scattergeo"
           }
          ],
          "scattergl": [
           {
            "marker": {
             "colorbar": {
              "outlinewidth": 0,
              "ticks": ""
             }
            },
            "type": "scattergl"
           }
          ],
          "scattermapbox": [
           {
            "marker": {
             "colorbar": {
              "outlinewidth": 0,
              "ticks": ""
             }
            },
            "type": "scattermapbox"
           }
          ],
          "scatterpolar": [
           {
            "marker": {
             "colorbar": {
              "outlinewidth": 0,
              "ticks": ""
             }
            },
            "type": "scatterpolar"
           }
          ],
          "scatterpolargl": [
           {
            "marker": {
             "colorbar": {
              "outlinewidth": 0,
              "ticks": ""
             }
            },
            "type": "scatterpolargl"
           }
          ],
          "scatterternary": [
           {
            "marker": {
             "colorbar": {
              "outlinewidth": 0,
              "ticks": ""
             }
            },
            "type": "scatterternary"
           }
          ],
          "surface": [
           {
            "colorbar": {
             "outlinewidth": 0,
             "ticks": ""
            },
            "colorscale": [
             [
              0,
              "#0d0887"
             ],
             [
              0.1111111111111111,
              "#46039f"
             ],
             [
              0.2222222222222222,
              "#7201a8"
             ],
             [
              0.3333333333333333,
              "#9c179e"
             ],
             [
              0.4444444444444444,
              "#bd3786"
             ],
             [
              0.5555555555555556,
              "#d8576b"
             ],
             [
              0.6666666666666666,
              "#ed7953"
             ],
             [
              0.7777777777777778,
              "#fb9f3a"
             ],
             [
              0.8888888888888888,
              "#fdca26"
             ],
             [
              1,
              "#f0f921"
             ]
            ],
            "type": "surface"
           }
          ],
          "table": [
           {
            "cells": {
             "fill": {
              "color": "#EBF0F8"
             },
             "line": {
              "color": "white"
             }
            },
            "header": {
             "fill": {
              "color": "#C8D4E3"
             },
             "line": {
              "color": "white"
             }
            },
            "type": "table"
           }
          ]
         },
         "layout": {
          "annotationdefaults": {
           "arrowcolor": "#2a3f5f",
           "arrowhead": 0,
           "arrowwidth": 1
          },
          "autotypenumbers": "strict",
          "coloraxis": {
           "colorbar": {
            "outlinewidth": 0,
            "ticks": ""
           }
          },
          "colorscale": {
           "diverging": [
            [
             0,
             "#8e0152"
            ],
            [
             0.1,
             "#c51b7d"
            ],
            [
             0.2,
             "#de77ae"
            ],
            [
             0.3,
             "#f1b6da"
            ],
            [
             0.4,
             "#fde0ef"
            ],
            [
             0.5,
             "#f7f7f7"
            ],
            [
             0.6,
             "#e6f5d0"
            ],
            [
             0.7,
             "#b8e186"
            ],
            [
             0.8,
             "#7fbc41"
            ],
            [
             0.9,
             "#4d9221"
            ],
            [
             1,
             "#276419"
            ]
           ],
           "sequential": [
            [
             0,
             "#0d0887"
            ],
            [
             0.1111111111111111,
             "#46039f"
            ],
            [
             0.2222222222222222,
             "#7201a8"
            ],
            [
             0.3333333333333333,
             "#9c179e"
            ],
            [
             0.4444444444444444,
             "#bd3786"
            ],
            [
             0.5555555555555556,
             "#d8576b"
            ],
            [
             0.6666666666666666,
             "#ed7953"
            ],
            [
             0.7777777777777778,
             "#fb9f3a"
            ],
            [
             0.8888888888888888,
             "#fdca26"
            ],
            [
             1,
             "#f0f921"
            ]
           ],
           "sequentialminus": [
            [
             0,
             "#0d0887"
            ],
            [
             0.1111111111111111,
             "#46039f"
            ],
            [
             0.2222222222222222,
             "#7201a8"
            ],
            [
             0.3333333333333333,
             "#9c179e"
            ],
            [
             0.4444444444444444,
             "#bd3786"
            ],
            [
             0.5555555555555556,
             "#d8576b"
            ],
            [
             0.6666666666666666,
             "#ed7953"
            ],
            [
             0.7777777777777778,
             "#fb9f3a"
            ],
            [
             0.8888888888888888,
             "#fdca26"
            ],
            [
             1,
             "#f0f921"
            ]
           ]
          },
          "colorway": [
           "#636efa",
           "#EF553B",
           "#00cc96",
           "#ab63fa",
           "#FFA15A",
           "#19d3f3",
           "#FF6692",
           "#B6E880",
           "#FF97FF",
           "#FECB52"
          ],
          "font": {
           "color": "#2a3f5f"
          },
          "geo": {
           "bgcolor": "white",
           "lakecolor": "white",
           "landcolor": "#E5ECF6",
           "showlakes": true,
           "showland": true,
           "subunitcolor": "white"
          },
          "hoverlabel": {
           "align": "left"
          },
          "hovermode": "closest",
          "mapbox": {
           "style": "light"
          },
          "paper_bgcolor": "white",
          "plot_bgcolor": "#E5ECF6",
          "polar": {
           "angularaxis": {
            "gridcolor": "white",
            "linecolor": "white",
            "ticks": ""
           },
           "bgcolor": "#E5ECF6",
           "radialaxis": {
            "gridcolor": "white",
            "linecolor": "white",
            "ticks": ""
           }
          },
          "scene": {
           "xaxis": {
            "backgroundcolor": "#E5ECF6",
            "gridcolor": "white",
            "gridwidth": 2,
            "linecolor": "white",
            "showbackground": true,
            "ticks": "",
            "zerolinecolor": "white"
           },
           "yaxis": {
            "backgroundcolor": "#E5ECF6",
            "gridcolor": "white",
            "gridwidth": 2,
            "linecolor": "white",
            "showbackground": true,
            "ticks": "",
            "zerolinecolor": "white"
           },
           "zaxis": {
            "backgroundcolor": "#E5ECF6",
            "gridcolor": "white",
            "gridwidth": 2,
            "linecolor": "white",
            "showbackground": true,
            "ticks": "",
            "zerolinecolor": "white"
           }
          },
          "shapedefaults": {
           "line": {
            "color": "#2a3f5f"
           }
          },
          "ternary": {
           "aaxis": {
            "gridcolor": "white",
            "linecolor": "white",
            "ticks": ""
           },
           "baxis": {
            "gridcolor": "white",
            "linecolor": "white",
            "ticks": ""
           },
           "bgcolor": "#E5ECF6",
           "caxis": {
            "gridcolor": "white",
            "linecolor": "white",
            "ticks": ""
           }
          },
          "title": {
           "x": 0.05
          },
          "xaxis": {
           "automargin": true,
           "gridcolor": "white",
           "linecolor": "white",
           "ticks": "",
           "title": {
            "standoff": 15
           },
           "zerolinecolor": "white",
           "zerolinewidth": 2
          },
          "yaxis": {
           "automargin": true,
           "gridcolor": "white",
           "linecolor": "white",
           "ticks": "",
           "title": {
            "standoff": 15
           },
           "zerolinecolor": "white",
           "zerolinewidth": 2
          }
         }
        },
        "title": {
         "text": "NFL Cap Spending for 2019",
         "y": 0.95
        }
       }
      },
      "text/html": [
       "<div>                            <div id=\"ec0e7e0d-d0f2-4903-9f6f-ba4ca0e98912\" class=\"plotly-graph-div\" style=\"height:250px; width:100%;\"></div>            <script type=\"text/javascript\">                require([\"plotly\"], function(Plotly) {                    window.PLOTLYENV=window.PLOTLYENV || {};                                    if (document.getElementById(\"ec0e7e0d-d0f2-4903-9f6f-ba4ca0e98912\")) {                    Plotly.newPlot(                        \"ec0e7e0d-d0f2-4903-9f6f-ba4ca0e98912\",                        [{\"cells\": {\"align\": [\"left\", \"left\", \"center\"], \"fill\": {\"color\": [[\"rgb(225.0, 225.0, 255.0)\", \"rgb(205.0, 205.0, 255.0)\", \"rgb(185.0, 185.0, 255.0)\", \"rgb(165.0, 165.0, 255.0)\", \"rgb(145.0, 145.0, 255.0)\", \"rgb(125.0, 125.0, 255.0)\"], [\"rgb(225.0, 225.0, 255.0)\", \"rgb(205.0, 205.0, 255.0)\", \"rgb(185.0, 185.0, 255.0)\", \"rgb(165.0, 165.0, 255.0)\", \"rgb(145.0, 145.0, 255.0)\", \"rgb(125.0, 125.0, 255.0)\"], [\"rgb(145.0, 145.0, 255.0)\", \"rgb(225.0, 225.0, 255.0)\", \"rgb(125.0, 125.0, 255.0)\", \"rgb(185.0, 185.0, 255.0)\", \"rgb(205.0, 205.0, 255.0)\", \"rgb(165.0, 165.0, 255.0)\"], [\"rgb(205.0, 205.0, 255.0)\", \"rgb(125.0, 125.0, 255.0)\", \"rgb(185.0, 185.0, 255.0)\", \"rgb(225.0, 225.0, 255.0)\", \"rgb(165.0, 165.0, 255.0)\", \"rgb(145.0, 145.0, 255.0)\"], [\"rgb(205.0, 205.0, 255.0)\", \"rgb(145.0, 145.0, 255.0)\", \"rgb(165.0, 165.0, 255.0)\", \"rgb(185.0, 185.0, 255.0)\", \"rgb(125.0, 125.0, 255.0)\", \"rgb(225.0, 225.0, 255.0)\"], [\"rgb(225.0, 225.0, 255.0)\", \"rgb(185.0, 185.0, 255.0)\", \"rgb(205.0, 205.0, 255.0)\", \"rgb(145.0, 145.0, 255.0)\", \"rgb(125.0, 125.0, 255.0)\", \"rgb(165.0, 165.0, 255.0)\"], [\"rgb(125.0, 125.0, 255.0)\", \"rgb(165.0, 165.0, 255.0)\", \"rgb(205.0, 205.0, 255.0)\", \"rgb(145.0, 145.0, 255.0)\", \"rgb(225.0, 225.0, 255.0)\", \"rgb(185.0, 185.0, 255.0)\"]]}, \"font\": {\"color\": \"black\", \"size\": 13}, \"format\": [null, null, \".3p\"], \"line\": {\"color\": \"black\"}, \"values\": [[0, 1, 2, 3, 4, 5], [\"Washington, Raiders, Titans, Lions, Patriots, Ravens, Dolphins\", \"Bengals, Browns, Cowboys, Colts, Chiefs, Eagles, Jets, Cardinals, Jaguars\", \"Packers, Chargers, Giants\", \"Vikings, Texans, Bears\", \"Buccaneers, Rams, Bills\", \"49ers, Saints, Falcons, Seahawks, Steelers, Panthers, Broncos\"], [0.119512558971068, 0.04436741479336779, 0.13519390941537898, 0.07142230113054876, 0.06872411503292912, 0.11941728163984384], [0.15098438766698014, 0.19174051295346534, 0.16147939202057246, 0.13010292394979675, 0.1654483737949208, 0.17208344678170717], [0.15822668871155568, 0.20170237058803203, 0.20070587467714196, 0.1892867443821866, 0.21735340491864077, 0.12727820732248582], [0.18658598366041151, 0.232452011159666, 0.22242619858875373, 0.3019820741186818, 0.3262456629011091, 0.29940853265373374], [0.19619058276005985, 0.15509086753905982, 0.11640887215306006, 0.18329310712092123, 0.09704432699988078, 0.13492571571715822]]}, \"columnwidth\": [5, 30, 10, 10, 10, 10, 10], \"header\": {\"align\": [\"left\", \"left\", \"center\"], \"fill\": {\"color\": \"white\"}, \"font\": {\"color\": \"black\", \"size\": 15}, \"line\": {\"color\": \"black\"}, \"values\": [\"<b>Cluster</b>\", \"<b>Teams</b>\", \"<b>QB %</b>\", \"<b>OL %</b>\", \"<b>Skill Pos %</b>\", \"<b>Def Front %</b>\", \"<b>Def Backs %</b>\"]}, \"type\": \"table\"}],                        {\"height\": 250, \"margin\": {\"b\": 20, \"l\": 20, \"r\": 20, \"t\": 55}, \"template\": {\"data\": {\"bar\": [{\"error_x\": {\"color\": \"#2a3f5f\"}, \"error_y\": {\"color\": \"#2a3f5f\"}, \"marker\": {\"line\": {\"color\": \"#E5ECF6\", \"width\": 0.5}}, \"type\": \"bar\"}], \"barpolar\": [{\"marker\": {\"line\": {\"color\": \"#E5ECF6\", \"width\": 0.5}}, \"type\": \"barpolar\"}], \"carpet\": [{\"aaxis\": {\"endlinecolor\": \"#2a3f5f\", \"gridcolor\": \"white\", \"linecolor\": \"white\", \"minorgridcolor\": \"white\", \"startlinecolor\": \"#2a3f5f\"}, \"baxis\": {\"endlinecolor\": \"#2a3f5f\", \"gridcolor\": \"white\", \"linecolor\": \"white\", \"minorgridcolor\": \"white\", \"startlinecolor\": \"#2a3f5f\"}, \"type\": \"carpet\"}], \"choropleth\": [{\"colorbar\": {\"outlinewidth\": 0, \"ticks\": \"\"}, \"type\": \"choropleth\"}], \"contour\": [{\"colorbar\": {\"outlinewidth\": 0, \"ticks\": \"\"}, \"colorscale\": [[0.0, \"#0d0887\"], [0.1111111111111111, \"#46039f\"], [0.2222222222222222, \"#7201a8\"], [0.3333333333333333, \"#9c179e\"], [0.4444444444444444, \"#bd3786\"], [0.5555555555555556, \"#d8576b\"], [0.6666666666666666, \"#ed7953\"], [0.7777777777777778, \"#fb9f3a\"], [0.8888888888888888, \"#fdca26\"], [1.0, \"#f0f921\"]], \"type\": \"contour\"}], \"contourcarpet\": [{\"colorbar\": {\"outlinewidth\": 0, \"ticks\": \"\"}, \"type\": \"contourcarpet\"}], \"heatmap\": [{\"colorbar\": {\"outlinewidth\": 0, \"ticks\": \"\"}, \"colorscale\": [[0.0, \"#0d0887\"], [0.1111111111111111, \"#46039f\"], [0.2222222222222222, \"#7201a8\"], [0.3333333333333333, \"#9c179e\"], [0.4444444444444444, \"#bd3786\"], [0.5555555555555556, \"#d8576b\"], [0.6666666666666666, \"#ed7953\"], [0.7777777777777778, \"#fb9f3a\"], [0.8888888888888888, \"#fdca26\"], [1.0, \"#f0f921\"]], \"type\": \"heatmap\"}], \"heatmapgl\": [{\"colorbar\": {\"outlinewidth\": 0, \"ticks\": \"\"}, \"colorscale\": [[0.0, \"#0d0887\"], [0.1111111111111111, \"#46039f\"], [0.2222222222222222, \"#7201a8\"], [0.3333333333333333, \"#9c179e\"], [0.4444444444444444, \"#bd3786\"], [0.5555555555555556, \"#d8576b\"], [0.6666666666666666, \"#ed7953\"], [0.7777777777777778, \"#fb9f3a\"], [0.8888888888888888, \"#fdca26\"], [1.0, \"#f0f921\"]], \"type\": \"heatmapgl\"}], \"histogram\": [{\"marker\": {\"colorbar\": {\"outlinewidth\": 0, \"ticks\": \"\"}}, \"type\": \"histogram\"}], \"histogram2d\": [{\"colorbar\": {\"outlinewidth\": 0, \"ticks\": \"\"}, \"colorscale\": [[0.0, \"#0d0887\"], [0.1111111111111111, \"#46039f\"], [0.2222222222222222, \"#7201a8\"], [0.3333333333333333, \"#9c179e\"], [0.4444444444444444, \"#bd3786\"], [0.5555555555555556, \"#d8576b\"], [0.6666666666666666, \"#ed7953\"], [0.7777777777777778, \"#fb9f3a\"], [0.8888888888888888, \"#fdca26\"], [1.0, \"#f0f921\"]], \"type\": \"histogram2d\"}], \"histogram2dcontour\": [{\"colorbar\": {\"outlinewidth\": 0, \"ticks\": \"\"}, \"colorscale\": [[0.0, \"#0d0887\"], [0.1111111111111111, \"#46039f\"], [0.2222222222222222, \"#7201a8\"], [0.3333333333333333, \"#9c179e\"], [0.4444444444444444, \"#bd3786\"], [0.5555555555555556, \"#d8576b\"], [0.6666666666666666, \"#ed7953\"], [0.7777777777777778, \"#fb9f3a\"], [0.8888888888888888, \"#fdca26\"], [1.0, \"#f0f921\"]], \"type\": \"histogram2dcontour\"}], \"mesh3d\": [{\"colorbar\": {\"outlinewidth\": 0, \"ticks\": \"\"}, \"type\": \"mesh3d\"}], \"parcoords\": [{\"line\": {\"colorbar\": {\"outlinewidth\": 0, \"ticks\": \"\"}}, \"type\": \"parcoords\"}], \"pie\": [{\"automargin\": true, \"type\": \"pie\"}], \"scatter\": [{\"marker\": {\"colorbar\": {\"outlinewidth\": 0, \"ticks\": \"\"}}, \"type\": \"scatter\"}], \"scatter3d\": [{\"line\": {\"colorbar\": {\"outlinewidth\": 0, \"ticks\": \"\"}}, \"marker\": {\"colorbar\": {\"outlinewidth\": 0, \"ticks\": \"\"}}, \"type\": \"scatter3d\"}], \"scattercarpet\": [{\"marker\": {\"colorbar\": {\"outlinewidth\": 0, \"ticks\": \"\"}}, \"type\": \"scattercarpet\"}], \"scattergeo\": [{\"marker\": {\"colorbar\": {\"outlinewidth\": 0, \"ticks\": \"\"}}, \"type\": \"scattergeo\"}], \"scattergl\": [{\"marker\": {\"colorbar\": {\"outlinewidth\": 0, \"ticks\": \"\"}}, \"type\": \"scattergl\"}], \"scattermapbox\": [{\"marker\": {\"colorbar\": {\"outlinewidth\": 0, \"ticks\": \"\"}}, \"type\": \"scattermapbox\"}], \"scatterpolar\": [{\"marker\": {\"colorbar\": {\"outlinewidth\": 0, \"ticks\": \"\"}}, \"type\": \"scatterpolar\"}], \"scatterpolargl\": [{\"marker\": {\"colorbar\": {\"outlinewidth\": 0, \"ticks\": \"\"}}, \"type\": \"scatterpolargl\"}], \"scatterternary\": [{\"marker\": {\"colorbar\": {\"outlinewidth\": 0, \"ticks\": \"\"}}, \"type\": \"scatterternary\"}], \"surface\": [{\"colorbar\": {\"outlinewidth\": 0, \"ticks\": \"\"}, \"colorscale\": [[0.0, \"#0d0887\"], [0.1111111111111111, \"#46039f\"], [0.2222222222222222, \"#7201a8\"], [0.3333333333333333, \"#9c179e\"], [0.4444444444444444, \"#bd3786\"], [0.5555555555555556, \"#d8576b\"], [0.6666666666666666, \"#ed7953\"], [0.7777777777777778, \"#fb9f3a\"], [0.8888888888888888, \"#fdca26\"], [1.0, \"#f0f921\"]], \"type\": \"surface\"}], \"table\": [{\"cells\": {\"fill\": {\"color\": \"#EBF0F8\"}, \"line\": {\"color\": \"white\"}}, \"header\": {\"fill\": {\"color\": \"#C8D4E3\"}, \"line\": {\"color\": \"white\"}}, \"type\": \"table\"}]}, \"layout\": {\"annotationdefaults\": {\"arrowcolor\": \"#2a3f5f\", \"arrowhead\": 0, \"arrowwidth\": 1}, \"autotypenumbers\": \"strict\", \"coloraxis\": {\"colorbar\": {\"outlinewidth\": 0, \"ticks\": \"\"}}, \"colorscale\": {\"diverging\": [[0, \"#8e0152\"], [0.1, \"#c51b7d\"], [0.2, \"#de77ae\"], [0.3, \"#f1b6da\"], [0.4, \"#fde0ef\"], [0.5, \"#f7f7f7\"], [0.6, \"#e6f5d0\"], [0.7, \"#b8e186\"], [0.8, \"#7fbc41\"], [0.9, \"#4d9221\"], [1, \"#276419\"]], \"sequential\": [[0.0, \"#0d0887\"], [0.1111111111111111, \"#46039f\"], [0.2222222222222222, \"#7201a8\"], [0.3333333333333333, \"#9c179e\"], [0.4444444444444444, \"#bd3786\"], [0.5555555555555556, \"#d8576b\"], [0.6666666666666666, \"#ed7953\"], [0.7777777777777778, \"#fb9f3a\"], [0.8888888888888888, \"#fdca26\"], [1.0, \"#f0f921\"]], \"sequentialminus\": [[0.0, \"#0d0887\"], [0.1111111111111111, \"#46039f\"], [0.2222222222222222, \"#7201a8\"], [0.3333333333333333, \"#9c179e\"], [0.4444444444444444, \"#bd3786\"], [0.5555555555555556, \"#d8576b\"], [0.6666666666666666, \"#ed7953\"], [0.7777777777777778, \"#fb9f3a\"], [0.8888888888888888, \"#fdca26\"], [1.0, \"#f0f921\"]]}, \"colorway\": [\"#636efa\", \"#EF553B\", \"#00cc96\", \"#ab63fa\", \"#FFA15A\", \"#19d3f3\", \"#FF6692\", \"#B6E880\", \"#FF97FF\", \"#FECB52\"], \"font\": {\"color\": \"#2a3f5f\"}, \"geo\": {\"bgcolor\": \"white\", \"lakecolor\": \"white\", \"landcolor\": \"#E5ECF6\", \"showlakes\": true, \"showland\": true, \"subunitcolor\": \"white\"}, \"hoverlabel\": {\"align\": \"left\"}, \"hovermode\": \"closest\", \"mapbox\": {\"style\": \"light\"}, \"paper_bgcolor\": \"white\", \"plot_bgcolor\": \"#E5ECF6\", \"polar\": {\"angularaxis\": {\"gridcolor\": \"white\", \"linecolor\": \"white\", \"ticks\": \"\"}, \"bgcolor\": \"#E5ECF6\", \"radialaxis\": {\"gridcolor\": \"white\", \"linecolor\": \"white\", \"ticks\": \"\"}}, \"scene\": {\"xaxis\": {\"backgroundcolor\": \"#E5ECF6\", \"gridcolor\": \"white\", \"gridwidth\": 2, \"linecolor\": \"white\", \"showbackground\": true, \"ticks\": \"\", \"zerolinecolor\": \"white\"}, \"yaxis\": {\"backgroundcolor\": \"#E5ECF6\", \"gridcolor\": \"white\", \"gridwidth\": 2, \"linecolor\": \"white\", \"showbackground\": true, \"ticks\": \"\", \"zerolinecolor\": \"white\"}, \"zaxis\": {\"backgroundcolor\": \"#E5ECF6\", \"gridcolor\": \"white\", \"gridwidth\": 2, \"linecolor\": \"white\", \"showbackground\": true, \"ticks\": \"\", \"zerolinecolor\": \"white\"}}, \"shapedefaults\": {\"line\": {\"color\": \"#2a3f5f\"}}, \"ternary\": {\"aaxis\": {\"gridcolor\": \"white\", \"linecolor\": \"white\", \"ticks\": \"\"}, \"baxis\": {\"gridcolor\": \"white\", \"linecolor\": \"white\", \"ticks\": \"\"}, \"bgcolor\": \"#E5ECF6\", \"caxis\": {\"gridcolor\": \"white\", \"linecolor\": \"white\", \"ticks\": \"\"}}, \"title\": {\"x\": 0.05}, \"xaxis\": {\"automargin\": true, \"gridcolor\": \"white\", \"linecolor\": \"white\", \"ticks\": \"\", \"title\": {\"standoff\": 15}, \"zerolinecolor\": \"white\", \"zerolinewidth\": 2}, \"yaxis\": {\"automargin\": true, \"gridcolor\": \"white\", \"linecolor\": \"white\", \"ticks\": \"\", \"title\": {\"standoff\": 15}, \"zerolinecolor\": \"white\", \"zerolinewidth\": 2}}}, \"title\": {\"text\": \"NFL Cap Spending for 2019\", \"y\": 0.95}},                        {\"responsive\": true}                    ).then(function(){\n",
       "                            \n",
       "var gd = document.getElementById('ec0e7e0d-d0f2-4903-9f6f-ba4ca0e98912');\n",
       "var x = new MutationObserver(function (mutations, observer) {{\n",
       "        var display = window.getComputedStyle(gd).display;\n",
       "        if (!display || display === 'none') {{\n",
       "            console.log([gd, 'removed!']);\n",
       "            Plotly.purge(gd);\n",
       "            observer.disconnect();\n",
       "        }}\n",
       "}});\n",
       "\n",
       "// Listen for the removal of the full notebook cells\n",
       "var notebookContainer = gd.closest('#notebook-container');\n",
       "if (notebookContainer) {{\n",
       "    x.observe(notebookContainer, {childList: true});\n",
       "}}\n",
       "\n",
       "// Listen for the clearing of the current output cell\n",
       "var outputEl = gd.closest('.output');\n",
       "if (outputEl) {{\n",
       "    x.observe(outputEl, {childList: true});\n",
       "}}\n",
       "\n",
       "                        })                };                });            </script>        </div>"
      ]
     },
     "metadata": {},
     "output_type": "display_data"
    }
   ],
   "source": [
    "colors = np.array(n_colors('rgb(225, 225, 255)', 'rgb(125, 125, 255)', 6, colortype='rgb'))\n",
    "\n",
    "fig = go.Figure(data=[go.Table(\n",
    "  header=dict(\n",
    "      values=['<b>Cluster</b>', '<b>Teams</b>', '<b>QB %</b>', '<b>OL %</b>', '<b>Skill Pos %</b>', '<b>Def Front %</b>', '<b>Def Backs %</b>'],\n",
    "      align=['left', 'left', 'center'],\n",
    "      font=dict(color='black', size=15),\n",
    "      fill_color='white',\n",
    "      line_color='black'\n",
    "  ),\n",
    "  columnwidth=[5,30,10,10,10,10,10],\n",
    "  cells=dict(\n",
    "      values=[km_table.index.tolist(), km_table.teams, km_table.qb_pct, km_table.ol_pct, km_table.skill_pos_pct, km_table.def_front_pct, km_table.def_backs_pct],\n",
    "      format=[None, None, '.3p'],\n",
    "      line_color='black',\n",
    "      fill_color=[colors[km_table.index.tolist()], \n",
    "                  colors[km_table.index.tolist()], \n",
    "                  colors[km_table.qb_rank], \n",
    "                  colors[km_table.ol_rank], \n",
    "                  colors[km_table.skill_pos_rank], \n",
    "                  colors[km_table.def_front_rank], \n",
    "                  colors[km_table.def_backs_rank]],\n",
    "      align=['left', 'left', 'center'],\n",
    "      font=dict(color='black', size=13)\n",
    "    )),\n",
    "])\n",
    "fig.update_layout(title=dict(text='NFL Cap Spending for 2019', y=0.95),\n",
    "                 margin=dict(l=20, r=20, t=55, b=20),\n",
    "                 height=250)\n",
    "\n",
    "fig.show()"
   ]
  },
  {
   "cell_type": "code",
   "execution_count": null,
   "metadata": {},
   "outputs": [],
   "source": []
  }
 ],
 "metadata": {
  "kernelspec": {
   "display_name": "Python 3",
   "language": "python",
   "name": "python3"
  },
  "language_info": {
   "codemirror_mode": {
    "name": "ipython",
    "version": 3
   },
   "file_extension": ".py",
   "mimetype": "text/x-python",
   "name": "python",
   "nbconvert_exporter": "python",
   "pygments_lexer": "ipython3",
   "version": "3.8.5"
  }
 },
 "nbformat": 4,
 "nbformat_minor": 4
}
